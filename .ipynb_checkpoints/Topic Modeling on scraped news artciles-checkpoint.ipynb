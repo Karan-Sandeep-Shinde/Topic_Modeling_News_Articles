{
 "cells": [
  {
   "cell_type": "code",
   "execution_count": 1,
   "metadata": {},
   "outputs": [],
   "source": [
    "import pandas as pd\n",
    "import numpy as np\n",
    "from bs4 import BeautifulSoup\n",
    "import time\n",
    "import requests"
   ]
  },
  {
   "cell_type": "code",
   "execution_count": 2,
   "metadata": {},
   "outputs": [],
   "source": [
    "url = \"https://indianexpress.com/section/sports/\""
   ]
  },
  {
   "cell_type": "code",
   "execution_count": null,
   "metadata": {},
   "outputs": [],
   "source": [
    "no_news = {}\n",
    "news_no = 0\n",
    "for x in range(1,5000):\n",
    "    url = \"https://indianexpress.com/section/sports/page/{}\".format(x)\n",
    "    data = requests.get(url)\n",
    "    soup = BeautifulSoup(data.text,\"html.parser\")\n",
    "    news = soup.find_all(\"div\",{\"class\":\"articles\"})\n",
    "    \n",
    "    for new in news:\n",
    "        date_tag = soup.find(\"div\",{\"class\":\"date\"}).text\n",
    "        titles = new.find(\"h2\",{\"class\":\"title\"}).text\n",
    "        link = new.find(\"h2\",{\"class\":\"title\"})\n",
    "        surf = link.find(\"a\").get(\"href\")\n",
    "        news_response = requests.get(surf)\n",
    "        news_data = news_response.text\n",
    "        news_soup = BeautifulSoup(news_data,\"html.parser\")\n",
    "        news_description = news_soup.find('h2',{'itemprop':'description'}).text\n",
    "        news_no += 1 \n",
    "        no_news[news_no] = [date_tag,titles,surf,news_description]\n",
    "    print('Job Title:', titles,'\\nDate:', date_tag, '\\nLink:', surf, '\\nNews Description:', news_description,'\\n---')\n",
    "    time.sleep(3)\n",
    "    \n",
    "\n",
    "print(\"Total number of jobs:\",news_no)"
   ]
  },
  {
   "cell_type": "code",
   "execution_count": null,
   "metadata": {},
   "outputs": [],
   "source": [
    "news_df = pd.DataFrame.from_dict(no_news,orient=\"index\",columns=[\"Date\",\"Title\",\"Link\",\"News_description\"])\n",
    "news_df.head()"
   ]
  },
  {
   "cell_type": "code",
   "execution_count": null,
   "metadata": {},
   "outputs": [],
   "source": [
    "news_df.shape"
   ]
  },
  {
   "cell_type": "code",
   "execution_count": null,
   "metadata": {},
   "outputs": [],
   "source": [
    "news_df.to_csv(\"News.csv\")"
   ]
  }
 ],
 "metadata": {
  "kernelspec": {
   "display_name": "Python 3",
   "language": "python",
   "name": "python3"
  },
  "language_info": {
   "codemirror_mode": {
    "name": "ipython",
    "version": 3
   },
   "file_extension": ".py",
   "mimetype": "text/x-python",
   "name": "python",
   "nbconvert_exporter": "python",
   "pygments_lexer": "ipython3",
   "version": "3.7.4"
  }
 },
 "nbformat": 4,
 "nbformat_minor": 2
}
